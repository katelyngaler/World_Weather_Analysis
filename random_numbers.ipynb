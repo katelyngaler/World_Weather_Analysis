{
 "cells": [
  {
   "cell_type": "code",
   "execution_count": 11,
   "metadata": {},
   "outputs": [],
   "source": [
    "#Import the random module -- only needed if don't import numpy\n",
    "import random\n",
    "# Import the NumPy module.\n",
    "import numpy as np\n",
    "\n",
    "# Import timeit.\n",
    "import timeit"
   ]
  },
  {
   "cell_type": "code",
   "execution_count": 2,
   "metadata": {
    "scrolled": true
   },
   "outputs": [
    {
     "data": {
      "text/plain": [
       "-58"
      ]
     },
     "execution_count": 2,
     "metadata": {},
     "output_type": "execute_result"
    }
   ],
   "source": [
    "random.randint(-90,90)"
   ]
  },
  {
   "cell_type": "code",
   "execution_count": 3,
   "metadata": {},
   "outputs": [
    {
     "data": {
      "text/plain": [
       "0.06485848179699805"
      ]
     },
     "execution_count": 3,
     "metadata": {},
     "output_type": "execute_result"
    }
   ],
   "source": [
    "random.random()"
   ]
  },
  {
   "cell_type": "code",
   "execution_count": 4,
   "metadata": {},
   "outputs": [
    {
     "data": {
      "text/plain": [
       "68.77092903110302"
      ]
     },
     "execution_count": 4,
     "metadata": {},
     "output_type": "execute_result"
    }
   ],
   "source": [
    "random_number = random.randint(-90,89) + random.random()\n",
    "random_number"
   ]
  },
  {
   "cell_type": "code",
   "execution_count": 5,
   "metadata": {},
   "outputs": [
    {
     "name": "stdout",
     "output_type": "stream",
     "text": [
      "[-53.147303542825256, 23.747514268956422, 46.667952692550394, -1.3958812310717668, -2.6427187776531893, 37.74348057125165, -0.019234238350307242, 75.06667356829327, 35.55178045488325, 87.99717631749935]\n"
     ]
    }
   ],
   "source": [
    "x=1\n",
    "latitudes=[]\n",
    "\n",
    "while x < 11:\n",
    "    #random_lat = random.randint(-90,89) + random.random()\n",
    "    random_lat = random.uniform(-90, 90)\n",
    "    latitudes.append(random_lat)\n",
    "    x+=1\n",
    "    \n",
    "print(latitudes)"
   ]
  },
  {
   "cell_type": "code",
   "execution_count": 13,
   "metadata": {},
   "outputs": [
    {
     "data": {
      "text/plain": [
       "array([ 7.15707224e+01,  4.67364208e+01,  2.40363560e+01,  2.35321869e+01,\n",
       "        1.88063868e+00, -4.30346469e+01,  7.64410134e+01,  4.77972897e-02,\n",
       "       -4.13125625e+01, -5.56569728e+01,  8.23783330e+01,  5.29729532e+01,\n",
       "        2.60657067e+01, -8.56164826e+01,  6.94442175e+01,  8.45122025e+01,\n",
       "       -1.34559536e+01, -5.87801398e+01,  4.37230434e+01, -4.64666234e+01,\n",
       "        6.17536763e+01,  4.77133908e+01, -2.37180326e+01,  7.60515693e+01,\n",
       "        1.36655141e+01,  6.00640836e+01,  2.69012009e+01, -7.63878874e+01,\n",
       "       -3.61319418e+01, -2.51633169e+01, -3.27201272e+01, -1.13797158e+01,\n",
       "        7.54330512e+01, -4.83165288e+01, -2.94872008e+01, -3.07022580e+01,\n",
       "       -2.08494396e+01, -3.85740069e+01, -5.11669715e+01, -2.18529068e+01,\n",
       "        4.27026019e+01,  1.84880950e+01, -8.36301178e+01, -8.37398259e+01,\n",
       "        4.67060027e+01, -6.81293528e+00,  8.32929041e+01, -4.79904518e+01,\n",
       "       -5.17511348e+01, -2.81217841e+01])"
      ]
     },
     "execution_count": 13,
     "metadata": {},
     "output_type": "execute_result"
    }
   ],
   "source": [
    "#simplified method using numpy\n",
    "\n",
    "np.random.uniform(-90.00,90.00, size=50)"
   ]
  },
  {
   "cell_type": "code",
   "execution_count": 14,
   "metadata": {},
   "outputs": [
    {
     "name": "stdout",
     "output_type": "stream",
     "text": [
      "12.7 µs ± 102 ns per loop (mean ± std. dev. of 7 runs, 100000 loops each)\n"
     ]
    }
   ],
   "source": [
    "%timeit np.random.uniform(-90.000, 90.000, size=1500)"
   ]
  },
  {
   "cell_type": "code",
   "execution_count": 15,
   "metadata": {},
   "outputs": [
    {
     "name": "stdout",
     "output_type": "stream",
     "text": [
      "2.4 ms ± 319 µs per loop (mean ± std. dev. of 7 runs, 1000 loops each)\n"
     ]
    }
   ],
   "source": [
    "def latitudes(size):\n",
    "    latitudes = []\n",
    "    x = 0\n",
    "    while x < (size):\n",
    "        random_lat = random.randint(-90, 90) + random.random()\n",
    "        latitudes.append(random_lat)\n",
    "        x += 1\n",
    "    return latitudes\n",
    "# Call the function with 1500.\n",
    "%timeit latitudes(1500)"
   ]
  },
  {
   "cell_type": "code",
   "execution_count": 17,
   "metadata": {},
   "outputs": [],
   "source": [
    "#latitudes(1500)"
   ]
  },
  {
   "cell_type": "code",
   "execution_count": null,
   "metadata": {},
   "outputs": [],
   "source": []
  }
 ],
 "metadata": {
  "kernelspec": {
   "display_name": "PythonData",
   "language": "python",
   "name": "pythondata"
  },
  "language_info": {
   "codemirror_mode": {
    "name": "ipython",
    "version": 3
   },
   "file_extension": ".py",
   "mimetype": "text/x-python",
   "name": "python",
   "nbconvert_exporter": "python",
   "pygments_lexer": "ipython3",
   "version": "3.7.9"
  }
 },
 "nbformat": 4,
 "nbformat_minor": 4
}
